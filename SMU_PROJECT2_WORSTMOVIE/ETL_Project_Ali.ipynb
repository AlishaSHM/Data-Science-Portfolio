{
 "cells": [
  {
   "cell_type": "code",
   "execution_count": null,
   "metadata": {},
   "outputs": [],
   "source": [
    "import requests\n",
    "from config import api_key\n",
    "import time\n",
    "import pandas as pd\n",
    "pd.set_option('display.max_columns', None)\n",
    "from time import sleep\n",
    "import numpy as np"
   ]
  },
  {
   "cell_type": "code",
   "execution_count": null,
   "metadata": {},
   "outputs": [],
   "source": [
    "from bs4 import BeautifulSoup "
   ]
  },
  {
   "cell_type": "markdown",
   "metadata": {},
   "source": [
    "# Extract IMDB via Webscraping HTML"
   ]
  },
  {
   "cell_type": "code",
   "execution_count": null,
   "metadata": {},
   "outputs": [],
   "source": [
    "url2 = 'https://www.imdb.com/chart/bottom'\n",
    "response = requests.get(url2)\n",
    "soup = BeautifulSoup(response.content, 'html.parser')"
   ]
  },
  {
   "cell_type": "code",
   "execution_count": null,
   "metadata": {},
   "outputs": [],
   "source": [
    "print(soup)"
   ]
  },
  {
   "cell_type": "code",
   "execution_count": null,
   "metadata": {},
   "outputs": [],
   "source": [
    "scraped_movies = soup.find_all('td', class_='titleColumn')\n",
    "scraped_movies"
   ]
  },
  {
   "cell_type": "code",
   "execution_count": null,
   "metadata": {},
   "outputs": [],
   "source": [
    "movies = []\n",
    "for movie in scraped_movies:\n",
    "    movie = movie.get_text().replace('\\n', \"\")\n",
    "    movie = movie.strip(\" \")\n",
    "    movies.append(movie)\n",
    "movies"
   ]
  },
  {
   "cell_type": "code",
   "execution_count": null,
   "metadata": {},
   "outputs": [],
   "source": [
    "scraped_ratings = soup.find_all('td', class_='ratingColumn imdbRating')\n",
    "scraped_ratings"
   ]
  },
  {
   "cell_type": "code",
   "execution_count": null,
   "metadata": {},
   "outputs": [],
   "source": [
    "ratings = []\n",
    "for rating in scraped_ratings:\n",
    "    rating = rating.get_text().replace('\\n', '')\n",
    "    ratings.append(rating)\n",
    "ratings"
   ]
  },
  {
   "cell_type": "code",
   "execution_count": null,
   "metadata": {},
   "outputs": [],
   "source": [
    "scraped_ids = soup.find_all('td', class_='watchlistColumn')\n",
    "scraped_ids"
   ]
  },
  {
   "cell_type": "code",
   "execution_count": null,
   "metadata": {},
   "outputs": [],
   "source": [
    "ids = []\n",
    "for id_html in scraped_ids:\n",
    "    id_title = id_html.find(\"div\")[\"data-tconst\"]\n",
    "    ids.append(id_title)\n",
    "ids"
   ]
  },
  {
   "cell_type": "code",
   "execution_count": null,
   "metadata": {},
   "outputs": [],
   "source": [
    "# movie_DF = pd.DataFrame({'Movies': movies, \n",
    "#                          'Movie Rating': ratings,\n",
    "#                         'Movie ID': ids})\n",
    "\n",
    "movie_DF = pd.DataFrame({'Movie ID': ids, \n",
    "                         'Movies': movies,\n",
    "                        'Movie Rating': ratings})\n"
   ]
  },
  {
   "cell_type": "code",
   "execution_count": null,
   "metadata": {},
   "outputs": [],
   "source": [
    "movie_DF"
   ]
  },
  {
   "cell_type": "markdown",
   "metadata": {},
   "source": [
    "#### Cleaning DataFrame"
   ]
  },
  {
   "cell_type": "code",
   "execution_count": null,
   "metadata": {},
   "outputs": [],
   "source": [
    "split_rank = movie_DF['Movies'].str.split('.', n=1, expand=True).rename(columns={0:\"Rank\", 1:\"Movies\"})\n",
    "split_rank"
   ]
  },
  {
   "cell_type": "code",
   "execution_count": null,
   "metadata": {},
   "outputs": [],
   "source": [
    "split_rank3 =split_rank['Movies'].str.extract('(.*)\\((\\d{4})\\)', expand=False).rename(columns={0:\"Movies\", 1:\"Year\"})\n",
    "split_rank3"
   ]
  },
  {
   "cell_type": "code",
   "execution_count": null,
   "metadata": {},
   "outputs": [],
   "source": [
    "split_rank3[\"Rank\"]=split_rank[\"Rank\"]\n",
    "split_rank3[\"Movie Rating\"]=movie_DF[\"Movie Rating\"]\n",
    "split_rank3[\"Movie ID\"]=movie_DF[\"Movie ID\"]\n",
    "\n",
    "split_rank3"
   ]
  },
  {
   "cell_type": "markdown",
   "metadata": {},
   "source": [
    "# Extract OMDB via Webscraping API"
   ]
  },
  {
   "cell_type": "markdown",
   "metadata": {},
   "source": [
    "from pprint import pprint"
   ]
  },
  {
   "cell_type": "code",
   "execution_count": null,
   "metadata": {},
   "outputs": [],
   "source": [
    "url = \"http://www.omdbapi.com/?apikey=\" + api_key + \"&i=\"\n",
    "\n",
    "\n",
    "movies = ['tt1213644',\n",
    " 'tt0270846',\n",
    " 'tt0060666',\n",
    " 'tt4458206',\n",
    " 'tt4009460',\n",
    " 'tt1316037',\n",
    " 'tt0804492',\n",
    " 'tt0317676',\n",
    " 'tt0417056',\n",
    " 'tt0362165',\n",
    " 'tt10888594',\n",
    " 'tt0808240',\n",
    " 'tt0799949',\n",
    " 'tt0249516',\n",
    " 'tt7431594',\n",
    " 'tt0421051',\n",
    " 'tt0339034',\n",
    " 'tt0096870',\n",
    " 'tt0369226',\n",
    " 'tt0185183',\n",
    " 'tt1098327',\n",
    " 'tt0299930',\n",
    " 'tt0118589',\n",
    " 'tt10280276',\n",
    " 'tt1073498',\n",
    " 'tt7668842',\n",
    " 'tt5697572',\n",
    " 'tt0466342',\n",
    " 'tt0118665',\n",
    " 'tt0089280',\n",
    " 'tt0785077',\n",
    " 'tt1883367',\n",
    " 'tt0093300',\n",
    " 'tt0383222',\n",
    " 'tt0105643',\n",
    " 'tt6038600',\n",
    " 'tt1572311',\n",
    " 'tt2467046',\n",
    " 'tt0058548',\n",
    " 'tt7255568',\n",
    " 'tt2574698',\n",
    " 'tt0116756',\n",
    " 'tt10886166',\n",
    " 'tt0246894',\n",
    " 'tt0120207',\n",
    " 'tt0810913',\n",
    " 'tt10350922',\n",
    " 'tt5690360',\n",
    " 'tt0327554',\n",
    " 'tt4877122',\n",
    " 'tt2403029',\n",
    " 'tt7608028',\n",
    " 'tt1666186',\n",
    " 'tt0462244',\n",
    " 'tt8366590',\n",
    " 'tt5013984',\n",
    " 'tt0400426',\n",
    " 'tt0118539',\n",
    " 'tt0804452',\n",
    " 'tt0115624',\n",
    " 'tt0110978',\n",
    " 'tt0329028',\n",
    " 'tt0065832',\n",
    " 'tt0295427',\n",
    " 'tt0795461',\n",
    " 'tt0295254',\n",
    " 'tt1411664',\n",
    " 'tt9820556',\n",
    " 'tt1517489',\n",
    " 'tt0103923',\n",
    " 'tt0110647',\n",
    " 'tt0120185',\n",
    " 'tt0110857',\n",
    " 'tt0275022',\n",
    " 'tt0368226',\n",
    " 'tt4667094',\n",
    " 'tt7059844',\n",
    " 'tt10481868',\n",
    " 'tt0119707',\n",
    " 'tt0372873',\n",
    " 'tt0085750',\n",
    " 'tt0095560',\n",
    " 'tt0118688',\n",
    " 'tt0897361',\n",
    " 'tt0424774',\n",
    " 'tt0450345',\n",
    " 'tt0094074',\n",
    " 'tt0432291',\n",
    " 'tt0190374',\n",
    " 'tt1714203',\n",
    " 'tt0094118',\n",
    " 'tt6439558',\n",
    " 'tt3138104',\n",
    " 'tt0158622',\n",
    " 'tt0811138',\n",
    " 'tt0891592',\n",
    " 'tt1185266',\n",
    " 'tt0460780',\n",
    " 'tt1530509',\n",
    " 'tt1231277']\n"
   ]
  },
  {
   "cell_type": "code",
   "execution_count": null,
   "metadata": {},
   "outputs": [],
   "source": [
    "response = requests.get(url)\n",
    "print(response.status_code)"
   ]
  },
  {
   "cell_type": "code",
   "execution_count": null,
   "metadata": {},
   "outputs": [],
   "source": [
    "title = []\n",
    "year = []\n",
    "imddrate = []\n",
    "rate = []\n",
    "genre = []\n",
    "actor = []\n",
    "gross = []\n",
    "director = []\n",
    "\n",
    "\n",
    "for movie_title in movies:\n",
    "    \n",
    "    try: \n",
    "        \n",
    "        print(movie_title)\n",
    "        full_url = url + movie_title\n",
    "        response = requests.get(full_url)\n",
    "\n",
    "        time.sleep(1)\n",
    "        \n",
    "\n",
    "        if response.status_code == 200:    \n",
    "            data = response.json()\n",
    "\n",
    "            title.append(data[\"Title\"])\n",
    "            year.append(data[\"Year\"])\n",
    "            imddrate.append(data[\"imdbRating\"])\n",
    "            rate.append(data[\"Rated\"])\n",
    "            genre.append(data[\"Genre\"])\n",
    "            actor.append(data[\"Actors\"])\n",
    "            gross.append(data[\"BoxOffice\"])\n",
    "            director.append(data[\"Director\"])\n",
    "#             count += 1\n",
    "\n",
    "    except Exception:\n",
    "            title.append(np.nan)\n",
    "            year.append(np.nan)\n",
    "            imddrate.append(np.nan)\n",
    "            rate.append(np.nan)\n",
    "            genre.append(np.nan)\n",
    "            actor.append(np.nan)\n",
    "            gross.append(np.nan)\n",
    "            director.append(np.nan)\n",
    "#             count += 1\n",
    "#             print(\"City not found. Skipping...\")"
   ]
  },
  {
   "cell_type": "code",
   "execution_count": null,
   "metadata": {},
   "outputs": [],
   "source": [
    "df = pd.DataFrame()\n",
    "df[\"Movies\"] = title\n",
    "df[\"Movie ID\"] = movies\n",
    "df[\"IMDB Rating\"] = imddrate\n",
    "df[\"Genre\"] = genre\n",
    "df[\"Rated\"] = rate\n",
    "df[\"Actors\"] = actor\n",
    "df[\"Directors\"] = director\n",
    "df[\"Gross\"] = gross\n",
    "\n",
    "df"
   ]
  },
  {
   "cell_type": "markdown",
   "metadata": {},
   "source": [
    "# Transform/Merge Datasets"
   ]
  },
  {
   "cell_type": "code",
   "execution_count": null,
   "metadata": {},
   "outputs": [],
   "source": [
    "merged = pd.merge(split_rank3,df, on=[\"Movie ID\"],how=\"outer\")\n",
    "merged"
   ]
  },
  {
   "cell_type": "code",
   "execution_count": null,
   "metadata": {},
   "outputs": [],
   "source": [
    "mask = merged.drop(columns=['Movies_y', 'IMDB Rating'])\n",
    "mask"
   ]
  },
  {
   "cell_type": "markdown",
   "metadata": {},
   "source": [
    "### Store DataFrame#1-\"Raw Main IMDB/OMDB DataFrame\" into CSV"
   ]
  },
  {
   "cell_type": "code",
   "execution_count": null,
   "metadata": {},
   "outputs": [],
   "source": [
    "mask.to_csv('IMDB Worst 100 Movies.csv', index=False)"
   ]
  },
  {
   "cell_type": "markdown",
   "metadata": {},
   "source": [
    "#### Cleaning Data"
   ]
  },
  {
   "cell_type": "code",
   "execution_count": null,
   "metadata": {},
   "outputs": [],
   "source": [
    "# Renaming Movie column\n",
    "Rename_df = mask.rename(columns={'Movies_x': 'movies', 'Year': 'year', 'Rank': 'rank', \"Movie ID\": \"movie_id\", \"Movie Rating\": \"movie_rating\", 'Genre': 'genre', 'Rated': 'rated', 'Actors': 'actors', 'Directors': 'directors', 'Gross': 'gross' })\n",
    "Rename_df"
   ]
  },
  {
   "cell_type": "code",
   "execution_count": null,
   "metadata": {},
   "outputs": [],
   "source": [
    "# Metadata table\n",
    "new_df = Rename_df[['movie_id','movies', 'rank', 'movie_rating', 'rated', 'year', 'genre', 'actors', 'directors', 'gross']]\n",
    "new_df"
   ]
  },
  {
   "cell_type": "markdown",
   "metadata": {},
   "source": [
    "### Store DataFrame#2-\"Clean Main IMDB/OMDB DataFrame\" into CSV"
   ]
  },
  {
   "cell_type": "code",
   "execution_count": null,
   "metadata": {},
   "outputs": [],
   "source": [
    "new_df.to_csv('movies.csv', index=False)"
   ]
  },
  {
   "cell_type": "markdown",
   "metadata": {},
   "source": [
    "#### Creating Genre Table"
   ]
  },
  {
   "cell_type": "code",
   "execution_count": null,
   "metadata": {},
   "outputs": [],
   "source": [
    "genre = new_df['genre'].value_counts()\n",
    "genre"
   ]
  },
  {
   "cell_type": "code",
   "execution_count": null,
   "metadata": {},
   "outputs": [],
   "source": [
    "genre_df = pd.DataFrame(genre.index)\n",
    "genre_df"
   ]
  },
  {
   "cell_type": "code",
   "execution_count": null,
   "metadata": {},
   "outputs": [],
   "source": [
    "Rename_genre = genre_df.rename(columns={0: 'genre'})\n",
    "Rename_genre"
   ]
  },
  {
   "cell_type": "markdown",
   "metadata": {},
   "source": [
    "### Store DataFrame#3-\"Genre\" into CSV"
   ]
  },
  {
   "cell_type": "code",
   "execution_count": null,
   "metadata": {},
   "outputs": [],
   "source": [
    "Rename_genre.to_csv('genre.csv', index=False)"
   ]
  },
  {
   "cell_type": "markdown",
   "metadata": {},
   "source": [
    "#### Creating Directors Table"
   ]
  },
  {
   "cell_type": "code",
   "execution_count": null,
   "metadata": {},
   "outputs": [],
   "source": [
    "director = new_df['directors'].value_counts()\n",
    "director"
   ]
  },
  {
   "cell_type": "code",
   "execution_count": null,
   "metadata": {},
   "outputs": [],
   "source": [
    "director_df = pd.DataFrame(director.index)\n",
    "director_df"
   ]
  },
  {
   "cell_type": "code",
   "execution_count": null,
   "metadata": {},
   "outputs": [],
   "source": [
    "Rename_director = director_df.rename(columns={0: 'directors'})\n",
    "Rename_director"
   ]
  },
  {
   "cell_type": "markdown",
   "metadata": {},
   "source": [
    "### Store DataFrame#4-\"Director\" into CSV"
   ]
  },
  {
   "cell_type": "code",
   "execution_count": null,
   "metadata": {},
   "outputs": [],
   "source": [
    "Rename_director.to_csv('director.csv', index=False)"
   ]
  },
  {
   "cell_type": "markdown",
   "metadata": {},
   "source": [
    "#### Creating Rated Table"
   ]
  },
  {
   "cell_type": "code",
   "execution_count": null,
   "metadata": {},
   "outputs": [],
   "source": [
    "# Rated table\n",
    "rated = new_df['rated'].value_counts()\n",
    "rated\n",
    "\n",
    "\n"
   ]
  },
  {
   "cell_type": "code",
   "execution_count": null,
   "metadata": {},
   "outputs": [],
   "source": [
    "Rated_df = pd.DataFrame(rated.index)\n",
    "Rated_df"
   ]
  },
  {
   "cell_type": "code",
   "execution_count": null,
   "metadata": {},
   "outputs": [],
   "source": [
    "Rename_rated = Rated_df.rename(columns={0: 'rated'})\n",
    "Rename_rated"
   ]
  },
  {
   "cell_type": "markdown",
   "metadata": {},
   "source": [
    "### Store DataFrame#6-\"Rated\" into CSV"
   ]
  },
  {
   "cell_type": "code",
   "execution_count": null,
   "metadata": {},
   "outputs": [],
   "source": [
    "Rename_rated.to_csv('rated.csv', index=False)"
   ]
  },
  {
   "cell_type": "markdown",
   "metadata": {},
   "source": [
    "# LOAD"
   ]
  },
  {
   "cell_type": "code",
   "execution_count": null,
   "metadata": {},
   "outputs": [],
   "source": [
    "import sqlalchemy\n",
    "from sqlalchemy import create_engine"
   ]
  },
  {
   "cell_type": "markdown",
   "metadata": {},
   "source": [
    "## Connect to cloud database"
   ]
  },
  {
   "cell_type": "code",
   "execution_count": null,
   "metadata": {},
   "outputs": [],
   "source": [
    "rds_connection_string = \"postgres:password@35.223.203.48:5432/postgres\"\n",
    "engine = create_engine(f'postgresql://{rds_connection_string}')"
   ]
  },
  {
   "cell_type": "markdown",
   "metadata": {},
   "source": [
    "### Create Tables"
   ]
  },
  {
   "cell_type": "code",
   "execution_count": null,
   "metadata": {},
   "outputs": [],
   "source": [
    "engine.table_names()"
   ]
  },
  {
   "cell_type": "markdown",
   "metadata": {},
   "source": [
    "### Loading date from CSV to database"
   ]
  },
  {
   "cell_type": "code",
   "execution_count": null,
   "metadata": {},
   "outputs": [],
   "source": [
    "#genres \n",
    "Rename_genre.to_sql(name='lk_genres', con=engine, if_exists='append', index=False, method=\"multi\")"
   ]
  },
  {
   "cell_type": "code",
   "execution_count": null,
   "metadata": {},
   "outputs": [],
   "source": [
    "#rated\n",
    "Rename_rated.to_sql(name='lk_rated', con=engine, if_exists='append', index=False, method=\"multi\")"
   ]
  },
  {
   "cell_type": "code",
   "execution_count": null,
   "metadata": {},
   "outputs": [],
   "source": [
    "#director\n",
    "Rename_director.to_sql(name='lk_directors', con=engine, if_exists='append', index=False, method=\"multi\")"
   ]
  },
  {
   "cell_type": "markdown",
   "metadata": {},
   "source": [
    "# Queries"
   ]
  },
  {
   "cell_type": "code",
   "execution_count": null,
   "metadata": {},
   "outputs": [],
   "source": [
    "genres_df = pd.read_sql(\"Select * from lk_genres\", con=engine)\n",
    "genres_df.head()"
   ]
  },
  {
   "cell_type": "code",
   "execution_count": null,
   "metadata": {},
   "outputs": [],
   "source": [
    "rated_df = pd.read_sql(\"Select * from lk_rated\", con=engine)\n",
    "rated_df.head()"
   ]
  },
  {
   "cell_type": "code",
   "execution_count": null,
   "metadata": {},
   "outputs": [],
   "source": [
    "directors_df = pd.read_sql(\"Select * from lk_directors\", con=engine)\n",
    "directors_df.head()"
   ]
  },
  {
   "cell_type": "code",
   "execution_count": null,
   "metadata": {},
   "outputs": [],
   "source": [
    "# merging by movie table with genre table by genre_id\n",
    "merge_genre = pd.merge(new_df, genres_df, on=\"genre\")\n",
    "merge_genre"
   ]
  },
  {
   "cell_type": "code",
   "execution_count": null,
   "metadata": {},
   "outputs": [],
   "source": [
    "# merging by movie table by rated\n",
    "merge_rated =  pd.merge(merge_genre, rated_df, on=\"rated\")\n",
    "merge_rated"
   ]
  },
  {
   "cell_type": "code",
   "execution_count": null,
   "metadata": {},
   "outputs": [],
   "source": [
    "# merging by movie table by director\n",
    "merge_final =  pd.merge(merge_rated, directors_df, on=\"director\")\n",
    "merge_final"
   ]
  },
  {
   "cell_type": "code",
   "execution_count": null,
   "metadata": {},
   "outputs": [],
   "source": [
    "final_df = merge_final.drop([\"last_updated_x\", \"last_updated_y\", \"last_updated\", \"genre\", \"director\", \"rated\"], axis=1)\n",
    "final_df.head()"
   ]
  },
  {
   "cell_type": "code",
   "execution_count": null,
   "metadata": {},
   "outputs": [],
   "source": [
    "#Use pandas to load movies csv into converted DataFrame into database\n",
    "final_df.to_sql(name='movies', con=engine, if_exists='append', index=False, method=\"multi\")"
   ]
  },
  {
   "cell_type": "code",
   "execution_count": null,
   "metadata": {},
   "outputs": [],
   "source": [
    "movies_df = pd.read_sql(\"Select * from movies\", con=engine)\n",
    "movies_df.head()"
   ]
  },
  {
   "cell_type": "markdown",
   "metadata": {},
   "source": [
    "# Bonus"
   ]
  },
  {
   "cell_type": "code",
   "execution_count": null,
   "metadata": {},
   "outputs": [],
   "source": [
    "# matplotlib inline\n",
    "import matplotlib.pyplot as plt\n",
    "import seaborn as sns"
   ]
  },
  {
   "cell_type": "code",
   "execution_count": null,
   "metadata": {},
   "outputs": [],
   "source": [
    "# Design a query to count the total number per 'Rated'\n",
    "\n",
    "\n",
    "query = \"\"\"\n",
    "            SELECT\n",
    "                rated,\n",
    "                avg(movie_rating) as avg_rating,\n",
    "               count(rated) as rated_count\n",
    "            FROM\n",
    "                movies m\n",
    "            JOIN lk_rated lr on m.rated_id = lr.rated_id\n",
    "            GROUP BY\n",
    "                rated\n",
    "            order by\n",
    "                rated_count asc;\n",
    "        \"\"\"\n",
    "\n",
    "# Query All Records in the the Database\n",
    "rated_count = pd.read_sql(query, con=engine)\n",
    "\n",
    "rated_count.head()"
   ]
  },
  {
   "cell_type": "code",
   "execution_count": null,
   "metadata": {},
   "outputs": [],
   "source": [
    "plt.figure(figsize=(10,6))\n",
    "sns.barplot(data=rated_count, x=\"rated\", y=\"rated_count\")\n",
    "plt.title(\"Movie Rating\")\n",
    "plt.show()"
   ]
  },
  {
   "cell_type": "code",
   "execution_count": null,
   "metadata": {},
   "outputs": [],
   "source": [
    "data2 = rated_count.sort_values(by=\"avg_rating\")\n",
    "\n",
    "plt.figure(figsize=(10,6))\n",
    "sns.barplot(data=data2, x=\"rated\", y=\"avg_rating\")\n",
    "plt.title(\"Average Movie Rating\")\n",
    "plt.show()"
   ]
  },
  {
   "cell_type": "code",
   "execution_count": null,
   "metadata": {},
   "outputs": [],
   "source": []
  }
 ],
 "metadata": {
  "kernelspec": {
   "display_name": "Python 3",
   "language": "python",
   "name": "python3"
  },
  "language_info": {
   "codemirror_mode": {
    "name": "ipython",
    "version": 3
   },
   "file_extension": ".py",
   "mimetype": "text/x-python",
   "name": "python",
   "nbconvert_exporter": "python",
   "pygments_lexer": "ipython3",
   "version": "3.8.5"
  }
 },
 "nbformat": 4,
 "nbformat_minor": 5
}
